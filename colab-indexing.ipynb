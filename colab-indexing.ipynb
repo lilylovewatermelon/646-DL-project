{
 "cells": [
  {
   "cell_type": "code",
   "execution_count": null,
   "metadata": {},
   "outputs": [],
   "source": [
    "from PIL import Image\n",
    "import requests\n",
    "import faiss\n",
    "import json\n",
    "from extract_features import mySigLipModel\n",
    "import time"
   ]
  },
  {
   "cell_type": "code",
   "execution_count": null,
   "metadata": {},
   "outputs": [],
   "source": [
    "class ImageIndex():\n",
    "    def __init__(self):\n",
    "        self.extractor = mySigLipModel()\n",
    "        self.index = faiss.IndexFlatL2(self.extractor.shape)\n",
    "        self.train_images_path = \"./dataset/SBU_captioned_photo_dataset_urls.txt\"\n",
    "        self.train_images = open(self.train_images_path, \"r\").readlines()\n",
    "    \n",
    "    def indexing(self, index_path, image_path, start, end):\n",
    "        image_urls = []\n",
    "\n",
    "        print(\"start indexing...\")\n",
    "        start = time.time()\n",
    "\n",
    "        for i, img_url in enumerate(self.train_images[start:end]):\n",
    "            img_url = img_url.strip()\n",
    "            try:\n",
    "                frame = Image.open(requests.get(img_url, stream=True).raw)\n",
    "            except:\n",
    "                print(f\"Failed to load image {i}: {img_url}\")\n",
    "                continue\n",
    "            image_urls.append(img_url)\n",
    "            embedding = self.extractor.get_image_embedding(frame)\n",
    "            self.index.add(embedding)\n",
    "            if i % 100 == 0:\n",
    "                print(f\"Indexed {i} images\")\n",
    "\n",
    "        end = time.time()\n",
    "        print('Finish in ' + str(end - start) + ' seconds')\n",
    "        faiss.write_index(self.index, index_path)\n",
    "\n",
    "        with open(image_path, \"w\") as f:\n",
    "            json.dump(image_urls, f, indent=2)"
   ]
  },
  {
   "cell_type": "code",
   "execution_count": null,
   "metadata": {},
   "outputs": [],
   "source": [
    "# def indexing_image(index_path, image_path, start, end):\n",
    "#     #load in the embedding extractor\n",
    "#     extractor = mySigLipModel()\n",
    "#     #load in indexer\n",
    "#     index = faiss.IndexFlatL2(extractor.shape)\n",
    "#     #load in image dataset\n",
    "#     train_images_path = \"./dataset/SBU_captioned_photo_dataset_urls.txt\"\n",
    "#     train_images = open(train_images_path, \"r\").readlines()\n",
    "\n",
    "#     image_urls = []\n",
    "\n",
    "#     print(\"start indexing...\")\n",
    "#     start = time.time()\n",
    "\n",
    "#     for i, img_url in enumerate(train_images[start:end]):\n",
    "#         img_url = img_url.strip()\n",
    "#         try:\n",
    "#             frame = Image.open(requests.get(img_url, stream=True).raw)\n",
    "#         except:\n",
    "#             print(f\"Failed to load image {i}: {img_url}\")\n",
    "#             continue\n",
    "#         image_urls.append(img_url)\n",
    "#         embedding = extractor.get_image_embedding(frame)\n",
    "#         # print(embedding.shape)\n",
    "#         index.add(embedding)\n",
    "#         # print(f\"Added image {img_url} to index\")\n",
    "#         if i % 100 == 0:\n",
    "#             print(f\"Indexed {i} images\")\n",
    "\n",
    "#     end = time.time()\n",
    "#     print('Finish in ' + str(end - start) + ' seconds')\n",
    "#     faiss.write_index(index, index_path)\n",
    "\n",
    "#     with open(image_path, \"w\") as f:\n",
    "#         json.dump(image_urls, f, indent=2)"
   ]
  },
  {
   "cell_type": "code",
   "execution_count": null,
   "metadata": {},
   "outputs": [],
   "source": [
    "#load in storage path\n",
    "# feature_root = './indexed_dataset/'\n",
    "index_path = \"siglip-image-index-90k.bin\"\n",
    "image_path = \"siglip_image_urls-90k.json\"\n",
    "\n",
    "indexer = ImageIndex()\n",
    "indexer.indexing(index_path, image_path, 10000, 90000)\n",
    "\n",
    "from google.colab import files\n",
    "files.download('siglip-image-index-90k.bin')\n",
    "files.download('siglip_image_urls-90k.json')\n",
    "# files.download('file.txt')"
   ]
  }
 ],
 "metadata": {
  "language_info": {
   "name": "python"
  }
 },
 "nbformat": 4,
 "nbformat_minor": 2
}
