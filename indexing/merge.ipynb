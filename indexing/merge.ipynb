{
 "cells": [
  {
   "cell_type": "code",
   "execution_count": 1,
   "metadata": {},
   "outputs": [
    {
     "name": "stdout",
     "output_type": "stream",
     "text": [
      "Intel MKL WARNING: Support of Intel(R) Streaming SIMD Extensions 4.2 (Intel(R) SSE4.2) enabled only processors has been deprecated. Intel oneAPI Math Kernel Library 2025.0 will require Intel(R) Advanced Vector Extensions (Intel(R) AVX) instructions.\n",
      "Intel MKL WARNING: Support of Intel(R) Streaming SIMD Extensions 4.2 (Intel(R) SSE4.2) enabled only processors has been deprecated. Intel oneAPI Math Kernel Library 2025.0 will require Intel(R) Advanced Vector Extensions (Intel(R) AVX) instructions.\n"
     ]
    }
   ],
   "source": [
    "import faiss\n",
    "import json\n",
    "import os"
   ]
  },
  {
   "cell_type": "code",
   "execution_count": 5,
   "metadata": {},
   "outputs": [
    {
     "data": {
      "text/plain": [
       "['./indexed_0-100k/siglip-image-index-0-10k.bin',\n",
       " './indexed_0-100k/siglip-image-index-10k-13k.bin',\n",
       " './indexed_0-100k/siglip-image-index-13k-18k.bin',\n",
       " './indexed_0-100k/siglip-image-index-18k-24k.bin',\n",
       " './indexed_0-100k/siglip-image-index-24k-30k.bin',\n",
       " './indexed_0-100k/siglip-image-index-30k-36k.bin',\n",
       " './indexed_0-100k/siglip-image-index-36k-40k.bin',\n",
       " './indexed_0-100k/siglip-image-index-40k-45k.bin',\n",
       " './indexed_0-100k/siglip-image-index-45k-50k.bin',\n",
       " './indexed_0-100k/siglip-image-index-50k-55k.bin',\n",
       " './indexed_0-100k/siglip-image-index-55k-60k.bin',\n",
       " './indexed_0-100k/siglip-image-index-60k-66k.bin',\n",
       " './indexed_0-100k/siglip-image-index-66k-72k.bin',\n",
       " './indexed_0-100k/siglip-image-index-72k-78k.bin',\n",
       " './indexed_0-100k/siglip-image-index-78k-88k.bin',\n",
       " './indexed_0-100k/siglip-image-index-88k-100k.bin']"
      ]
     },
     "execution_count": 5,
     "metadata": {},
     "output_type": "execute_result"
    }
   ],
   "source": [
    "folder='./indexed_0-100k'\n",
    "index_files = [os.path.join(folder, f) for f in os.listdir(folder) if os.path.isfile(os.path.join(folder, f)) and f.endswith('.bin')]\n",
    "\n",
    "index_files.sort()\n",
    "index_files"
   ]
  },
  {
   "cell_type": "code",
   "execution_count": null,
   "metadata": {},
   "outputs": [],
   "source": [
    "def merge_index(folder='./indexed_0-100k', new_index_file='./indexed_dataset/siglip-image-index-0-100k.bin'):\n",
    "    index_files = [os.path.join(folder, f) for f in os.listdir(folder) if os.path.isfile(os.path.join(folder, f)) and f.endswith('.bin')]\n",
    "    index_files.sort()\n",
    "\n",
    "    for index_file in index_files:\n",
    "        index = faiss.read_index(index_file)\n",
    "        if 'new_index' not in locals():\n",
    "            new_index = faiss.IndexFlatL2(index.d)\n",
    "        new_index.merge_from(index)\n",
    "        # print(new_index.ntotal)\n",
    "\n",
    "    faiss.write_index(new_index, new_index_file)\n",
    "\n",
    "def merge_json(folder='./indexed_0-100k', new_json_file='./indexed_dataset/siglip-image-index-0-100k.json'):\n",
    "    json_files = [os.path.join(folder, f) for f in os.listdir(folder) if os.path.isfile(os.path.join(folder, f)) and f.endswith('.json')]\n",
    "    json_files.sort()\n",
    "\n",
    "    image_urls = []\n",
    "\n",
    "    for json_file in json_files:\n",
    "        with open(json_file, \"r\") as f:\n",
    "            image_urls += json.load(f)\n",
    "\n",
    "    with open(new_json_file, \"w\") as f:\n",
    "        json.dump(image_urls, f, indent=2)\n",
    "\n",
    "merge_index()\n",
    "merge_json()"
   ]
  }
 ],
 "metadata": {
  "kernelspec": {
   "display_name": "deeplearn",
   "language": "python",
   "name": "python3"
  },
  "language_info": {
   "codemirror_mode": {
    "name": "ipython",
    "version": 3
   },
   "file_extension": ".py",
   "mimetype": "text/x-python",
   "name": "python",
   "nbconvert_exporter": "python",
   "pygments_lexer": "ipython3",
   "version": "3.9.18"
  }
 },
 "nbformat": 4,
 "nbformat_minor": 2
}
