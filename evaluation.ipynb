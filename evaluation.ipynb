{
 "cells": [
  {
   "cell_type": "code",
   "execution_count": 15,
   "metadata": {},
   "outputs": [],
   "source": [
    "import faiss\n",
    "from extract_features import mySigLipModel\n",
    "from display_image import ImageDisplay\n",
    "import time\n",
    "import numpy as np\n",
    "import requests\n",
    "from PIL import Image\n",
    "import json"
   ]
  },
  {
   "cell_type": "code",
   "execution_count": 21,
   "metadata": {},
   "outputs": [],
   "source": [
    "image_path = './indexed_100k-200k/siglip_image_urls-100k-200k.json'\n",
    "index_path = './indexed_100k-200k/siglip-image-index-100k-200k.bin'\n",
    "dataset_caption_path = './dataset/SBU_captioned_photo_dataset_captions.txt'\n",
    "dataset_url_path = './dataset/SBU_captioned_photo_dataset_urls.txt'"
   ]
  },
  {
   "cell_type": "code",
   "execution_count": 6,
   "metadata": {},
   "outputs": [],
   "source": [
    "#load in the embedding extractor\n",
    "extractor = mySigLipModel()\n",
    "#load in image displayer\n",
    "display = ImageDisplay()\n",
    "#load in indexer\n",
    "index = faiss.read_index(index_path)"
   ]
  },
  {
   "cell_type": "code",
   "execution_count": 24,
   "metadata": {},
   "outputs": [],
   "source": [
    "testing_size = 100\n",
    "k_list = [3, 5, 10, 20, 50]"
   ]
  },
  {
   "cell_type": "code",
   "execution_count": 22,
   "metadata": {},
   "outputs": [],
   "source": [
    "with open(dataset_caption_path, 'r') as f:\n",
    "    captions = f.readlines()[:testing_size]\n",
    "with open(dataset_url_path, 'r') as f:\n",
    "    urls = f.readlines()[:testing_size]\n",
    "with open(image_path, 'r') as f:\n",
    "    train_image_urls = json.load(f)"
   ]
  },
  {
   "cell_type": "code",
   "execution_count": 9,
   "metadata": {},
   "outputs": [],
   "source": [
    "# select (testing_size * 1.2) images from the dataset in random\n",
    "selecting_size = int(testing_size * 1.2)  # 20% more for the case that some images are not valid\n",
    "np.random.seed(0)\n",
    "selected_indices = np.random.choice(len(captions), selecting_size, replace=False)\n",
    "selected_captions = [captions[i] for i in selected_indices]\n",
    "selected_urls = [urls[i] for i in selected_indices]"
   ]
  },
  {
   "cell_type": "code",
   "execution_count": 25,
   "metadata": {},
   "outputs": [
    {
     "name": "stdout",
     "output_type": "stream",
     "text": [
      "Recall@3: 0.0\n",
      "Recall@5: 0.0\n",
      "Recall@10: 0.0\n",
      "Recall@20: 0.0\n",
      "Recall@50: 0.0\n"
     ]
    }
   ],
   "source": [
    "# compute the recall@k\n",
    "for k in k_list:\n",
    "    recall = 0\n",
    "    count = 0\n",
    "    for i in range(selecting_size):\n",
    "        url = selected_urls[i]\n",
    "        caption = selected_captions[i]\n",
    "        # check if the image is valid\n",
    "        try:\n",
    "            frame = Image.open(requests.get(url, stream=True).raw)\n",
    "            count += 1\n",
    "        except:\n",
    "            continue\n",
    "        query_embedding = extractor.get_text_embedding(caption)\n",
    "        # search the k nearest neighbors\n",
    "        D, I = index.search(query_embedding, k)\n",
    "        # check if the caption of the image is in the k nearest neighbors\n",
    "        result_urls = [train_image_urls[j].strip() for j in I[0]]\n",
    "        # print('Query: {}'.format(caption))\n",
    "        # print('Query url: {}'.format(url))\n",
    "        # print('Result urls:')\n",
    "        # for result_url in result_urls:\n",
    "        #     print(result_url)\n",
    "        if url in result_urls:\n",
    "            recall += 1\n",
    "        if count >= testing_size:\n",
    "            break\n",
    "\n",
    "    print('Recall@{}: {}'.format(k, recall / testing_size))"
   ]
  }
 ],
 "metadata": {
  "kernelspec": {
   "display_name": "transformers",
   "language": "python",
   "name": "python3"
  },
  "language_info": {
   "codemirror_mode": {
    "name": "ipython",
    "version": 3
   },
   "file_extension": ".py",
   "mimetype": "text/x-python",
   "name": "python",
   "nbconvert_exporter": "python",
   "pygments_lexer": "ipython3",
   "version": "3.11.7"
  }
 },
 "nbformat": 4,
 "nbformat_minor": 2
}
